{
 "cells": [
  {
   "cell_type": "code",
   "execution_count": 1,
   "id": "93eb22e7",
   "metadata": {},
   "outputs": [],
   "source": [
    "from playwright.async_api import async_playwright\n",
    "import asyncio\n",
    "import time"
   ]
  },
  {
   "cell_type": "code",
   "execution_count": 2,
   "id": "e88e90bb",
   "metadata": {},
   "outputs": [],
   "source": [
    "browser = None\n",
    "page = None"
   ]
  },
  {
   "cell_type": "code",
   "execution_count": 3,
   "id": "a5bab970",
   "metadata": {},
   "outputs": [],
   "source": [
    "async def automate_booking(session_data):\n",
    "    \"\"\"\n",
    "    Automates login, search train, and prepares up to captcha\n",
    "    Returns the capthsa image path\n",
    "    \"\"\"\n",
    "\n",
    "    global browser, page\n",
    "    p = await async_playwright().start()\n",
    "    browser = await p.chromium.launch(headless=False)\n",
    "    page = await browser.new_page()\n",
    "\n",
    "    await page.goto(\"https://www.irctc.co.in\")\n",
    "    await page.wait_for_timeout(3000)\n",
    "\n",
    "    await page.click(\"text=LOGIN\")\n",
    "    await page.wait_for_timeout(2000)\n",
    "\n",
    "    await page.fill(\"input[formcontrolname='userId']\", session_data['credentials']['username'])\n",
    "    await page.fill(\"input[formcontrolname='password']\", session_data['credentials']['password'])\n",
    "\n",
    "    \n",
    "    captcha_path = f\"captcha_{session_data['credentials']['username']}.png\"\n",
    "    captcha_element = await page.locator(\"img.captcha-img\").screenshot(path=captcha_path)\n",
    "\n",
    "    return \"captcha.png\"\n"
   ]
  },
  {
   "cell_type": "code",
   "execution_count": 4,
   "id": "38aaabd5",
   "metadata": {},
   "outputs": [],
   "source": [
    "async def complete_booking(session_data):\n",
    "    \"\"\"\n",
    "    Completes the booking process after receiving captcha from the user.\n",
    "    \"\"\"\n",
    "    global browser, page\n",
    "\n",
    "    # Fill Captcha\n",
    "    await page.fill(\"input[formcontrolname='captchaValue']\", session_data['captcha'])\n",
    "    await page.click(\"button[label='Sign In']\")\n",
    "    await page.wait_for_timeout(5000)\n",
    "\n",
    "    # Search Trains\n",
    "    await page.fill(\"input[placeholder='From*']\", session_data['from'])\n",
    "    await page.fill(\"input[placeholder='To*']\", session_data['to'])\n",
    "    await page.fill(\"input[placeholder='Journey Date(dd-mm-yyyy)*']\", session_data['date'])\n",
    "    await page.click(\"button[label='Find Trains']\")\n",
    "    await page.wait_for_timeout(5000)\n",
    "\n",
    "    # Select Train and Class\n",
    "    await page.locator(f\"text={session_data['train_type']}\").click()\n",
    "    await page.locator(f\"text={session_data['class']}\").click()\n",
    "\n",
    "    # Book Ticket\n",
    "    await page.click(\"button[label='Book Now']\")\n",
    "    await page.wait_for_timeout(3000)\n",
    "\n",
    "    # Fill Passenger Details\n",
    "    for idx, (name, age, gender) in enumerate(session_data['passengers']):\n",
    "        await page.fill(f\"input[formcontrolname='passengerName{idx}']\", name)\n",
    "        await page.fill(f\"input[formcontrolname='passengerAge{idx}']\", age)\n",
    "        await page.select_option(f\"select[formcontrolname='passengerGender{idx}']\", gender)\n",
    "\n",
    "    # Proceed to Payment Page\n",
    "    await page.click(\"button[label='Continue Booking']\")\n",
    "    await page.wait_for_timeout(5000)\n",
    "\n",
    "    # Note: Payment must be done manually\n",
    "    # Download Ticket PDF (post-payment step)\n",
    "    ticket_pdf_path = f\"ticket_{session_data['credentials']['username']}.pdf\"\n",
    "    await page.click(\"button[label='My Bookings']\")\n",
    "    await page.wait_for_timeout(3000)\n",
    "    await page.locator(\"text=Download Ticket\").click()\n",
    "\n",
    "    return ticket_pdf_path"
   ]
  },
  {
   "cell_type": "code",
   "execution_count": 5,
   "id": "8f198078",
   "metadata": {},
   "outputs": [],
   "source": [
    "# session_data = {\n",
    "#     'credentials': {\n",
    "#         'username': 'Gopumanvith',\n",
    "#         'password': 'Gopu@123'\n",
    "#     }\n",
    "# }\n",
    "\n",
    "# captcha_path = await automate_booking(session_data= session_data)\n",
    "\n",
    "# print(f'Captch image saved at {captcha_path}')"
   ]
  },
  {
   "cell_type": "code",
   "execution_count": 1,
   "id": "8f93c0c6",
   "metadata": {},
   "outputs": [],
   "source": [
    "import os\n",
    "import playwright"
   ]
  },
  {
   "cell_type": "code",
   "execution_count": null,
   "id": "47ee7414",
   "metadata": {},
   "outputs": [],
   "source": [
    "chrome_executable_path = \"C:\\\\Users\\\\saish\\\\Downloads\\\\chrome-win64\\\\chrome.exe\"\n",
    "os.system(f'\"{chrome_executable_path}\" --remote-debugging-port=9222')\n",
    "\n",
    "# Then connect via Playwright:\n",
    "browser = await playwright.chromium.connect_over_cdp(\"http://localhost:9222\")"
   ]
  },
  {
   "cell_type": "code",
   "execution_count": null,
   "id": "7a216653",
   "metadata": {},
   "outputs": [],
   "source": []
  }
 ],
 "metadata": {
  "kernelspec": {
   "display_name": "venv",
   "language": "python",
   "name": "python3"
  },
  "language_info": {
   "codemirror_mode": {
    "name": "ipython",
    "version": 3
   },
   "file_extension": ".py",
   "mimetype": "text/x-python",
   "name": "python",
   "nbconvert_exporter": "python",
   "pygments_lexer": "ipython3",
   "version": "3.12.9"
  }
 },
 "nbformat": 4,
 "nbformat_minor": 5
}
