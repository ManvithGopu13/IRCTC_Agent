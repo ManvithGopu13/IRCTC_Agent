{
 "cells": [
  {
   "cell_type": "code",
   "execution_count": 1,
   "id": "c8736b74",
   "metadata": {},
   "outputs": [
    {
     "data": {
      "text/plain": [
       "True"
      ]
     },
     "execution_count": 1,
     "metadata": {},
     "output_type": "execute_result"
    }
   ],
   "source": [
    "from telegram import Update, InputFile\n",
    "from telegram.ext import ApplicationBuilder, CommandHandler, MessageHandler, filters, ConversationHandler, ContextTypes\n",
    "import os\n",
    "\n",
    "from dotenv import load_dotenv\n",
    "\n",
    "load_dotenv()"
   ]
  },
  {
   "cell_type": "code",
   "execution_count": 2,
   "id": "260875d9",
   "metadata": {},
   "outputs": [],
   "source": [
    "FROM, TO, DATE, CLASS, TRAIN_TYPE, NUM_PASSENGERS, PASSENGER_DETAILS, CREDENTIALS, CAPTCHA = range(9)\n"
   ]
  },
  {
   "cell_type": "code",
   "execution_count": 3,
   "id": "02cf1d7e",
   "metadata": {},
   "outputs": [],
   "source": [
    "user_sessions = {}"
   ]
  },
  {
   "cell_type": "code",
   "execution_count": 4,
   "id": "8afe3af6",
   "metadata": {},
   "outputs": [],
   "source": [
    "async def start(update: Update, context: ContextTypes.DEFAULT_TYPE):\n",
    "    await update.message.reply_text(\"Welcome to the IRCTC Ticket Bot! Let's start your booking.\\nFrom which station are you traveling?\")\n",
    "    return FROM"
   ]
  },
  {
   "cell_type": "code",
   "execution_count": 5,
   "id": "76c5fed5",
   "metadata": {},
   "outputs": [],
   "source": [
    "async def from_station(update: Update, context: ContextTypes.DEFAULT_TYPE):\n",
    "    user_sessions[update.effective_user.id] = {'from': update.message.text}\n",
    "    await update.message.reply_text(\"To which station are you going?\")\n",
    "    return TO"
   ]
  },
  {
   "cell_type": "code",
   "execution_count": 6,
   "id": "d6746779",
   "metadata": {},
   "outputs": [],
   "source": [
    "async def to_station(update: Update, context: ContextTypes.DEFAULT_TYPE):\n",
    "    user_sessions[update.effective_user.id]['to'] = update.message.text\n",
    "    await update.message.reply_text(\"Enter date of journey (dd-mm-yyyy):\")\n",
    "    return DATE"
   ]
  },
  {
   "cell_type": "code",
   "execution_count": 9,
   "id": "c8f2759d",
   "metadata": {},
   "outputs": [],
   "source": [
    "async def date_of_journey(update: Update, context: ContextTypes.DEFAULT_TYPE):\n",
    "    user_sessions[update.effective_user.id]['date'] = update.message.text\n",
    "    await update.message.reply_text(\"Which class? (SL, 3AC, 2AC, 2S, etc):\")\n",
    "    return CLASS\n",
    "\n",
    "async def travel_class(update: Update, context: ContextTypes.DEFAULT_TYPE):\n",
    "    user_sessions[update.effective_user.id]['class'] = update.message.text\n",
    "    await update.message.reply_text(\"Train type or train number?\")\n",
    "    return TRAIN_TYPE\n",
    "\n",
    "async def train_type(update: Update, context: ContextTypes.DEFAULT_TYPE):\n",
    "    user_sessions[update.effective_user.id]['train_type'] = update.message.text\n",
    "    await update.message.reply_text(\"How many passengers?\")\n",
    "    return NUM_PASSENGERS\n",
    "\n",
    "async def num_passengers(update: Update, context: ContextTypes.DEFAULT_TYPE):\n",
    "    user_sessions[update.effective_user.id]['num_passengers'] = int(update.message.text)\n",
    "    await update.message.reply_text(\"Enter passenger details in format: Name,Age,Gender (one per line)\")\n",
    "    return PASSENGER_DETAILS\n",
    "\n",
    "async def passenger_details(update: Update, context: ContextTypes.DEFAULT_TYPE):\n",
    "    passengers = update.message.text.split('\\n')\n",
    "    user_sessions[update.effective_user.id]['passengers'] = [p.split(',') for p in passengers]\n",
    "    await update.message.reply_text(\"Enter your IRCTC username and password (comma separated):\")\n",
    "    return CREDENTIALS\n",
    "\n",
    "async def credentials(update: Update, context: ContextTypes.DEFAULT_TYPE):\n",
    "    creds = update.message.text.split(',')\n",
    "    user_sessions[update.effective_user.id]['credentials'] = {'username': creds[0], 'password': creds[1]}\n",
    "    await update.message.reply_text(\"Thanks! We're starting the booking process now.\")\n",
    "\n",
    "    # from automation_script import automate_booking\n",
    "    # captcha_image_path = automate_booking(user_sessions[update.effective_user.id])\n",
    "\n",
    "    # Send captcha to user\n",
    "    # await update.message.reply_photo(InputFile(captcha_image_path), caption=\"Enter the captcha shown:\")\n",
    "    return CAPTCHA"
   ]
  },
  {
   "cell_type": "code",
   "execution_count": null,
   "id": "3698b013",
   "metadata": {},
   "outputs": [],
   "source": [
    "from automation_script import automate_booking\n",
    "captcha_image_path = automate_booking(user_sessions[update.effective_user.id])\n"
   ]
  },
  {
   "cell_type": "code",
   "execution_count": null,
   "id": "799cb98d",
   "metadata": {},
   "outputs": [],
   "source": [
    "async def handle_captcha(update: Update, context: ContextTypes.DEFAULT_TYPE):\n",
    "    user_sessions[update.effective_user.id]['captcha'] = update.message.text\n",
    "    # from automation_script import complete_booking\n",
    "    # ticket_pdf_path = complete_booking(user_sessions[update.effective_user.id])\n",
    "    # await update.message.reply_document(InputFile(ticket_pdf_path), caption=\"Here is your booked ticket!\")\n",
    "    return ConversationHandler.END"
   ]
  },
  {
   "cell_type": "code",
   "execution_count": null,
   "id": "472b90a7",
   "metadata": {},
   "outputs": [],
   "source": []
  }
 ],
 "metadata": {
  "kernelspec": {
   "display_name": "venv",
   "language": "python",
   "name": "python3"
  },
  "language_info": {
   "codemirror_mode": {
    "name": "ipython",
    "version": 3
   },
   "file_extension": ".py",
   "mimetype": "text/x-python",
   "name": "python",
   "nbconvert_exporter": "python",
   "pygments_lexer": "ipython3",
   "version": "3.12.9"
  }
 },
 "nbformat": 4,
 "nbformat_minor": 5
}
